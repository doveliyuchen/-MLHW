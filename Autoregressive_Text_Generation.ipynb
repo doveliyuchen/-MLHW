{
  "cells": [
    {
      "cell_type": "markdown",
      "metadata": {
        "id": "view-in-github",
        "colab_type": "text"
      },
      "source": [
        "<a href=\"https://colab.research.google.com/github/doveliyuchen/-MLHW/blob/main/Autoregressive_Text_Generation.ipynb\" target=\"_parent\"><img src=\"https://colab.research.google.com/assets/colab-badge.svg\" alt=\"Open In Colab\"/></a>"
      ]
    },
    {
      "cell_type": "markdown",
      "id": "b4c6ed96",
      "metadata": {
        "id": "b4c6ed96"
      },
      "source": [
        "# Lab 3: Generating Text with an Autoregressive Model\n",
        "\n",
        "In this lab, we will build a simple model for generating text in the style of a given book. In lecture, we learned about **probabalistic models**, which views the data given as the result of some random process. In this lab, we will be using this probablistic assumption to **generate new data**. Specifically, we will use an autoregressive model, as discussed in Lecture 4. Our model will begin with a list of words, and generate a new word based on the $k$ most recent previous words. $k$ is chosen to be a small fixed constant, which limits the complexity of the model.\n",
        "\n",
        "Sometimes this type of model is also called a Markov Model. Similar techniques can be used for time-series and really any other data that has some notion of _recency_. For example, our Lab 2 studied an auto-regressive model for time series data. Even fancy modern language models like the GPT family of models are auto-regressive.\n",
        "\n",
        "We get our input data from [Project Gutenberg](https://www.gutenberg.org/), a free library of public-works books made available online. By default, we include four books in this lab:\n",
        "- _Alice in Wonderland_ by Lewis Carroll\n",
        "- _Metamorphosis_ by Franz Kafka\n",
        "- _The Count of Monte Cristo_ by Alexandre Dumas\n",
        "- _The Complete Works of William Shakespeare_ by William Shakespeare\n",
        "\n",
        "You will be able to add or change these book as you please, and there is code to make this relatively seamless. Pick your favorite work on the site!\n",
        "\n",
        "---\n",
        "\n",
        "The goals of this lab are to:\n",
        "- Get some experience preprocessing data\n",
        "- Train and generate text with an autoregressive model\n",
        "- Understand the quality/plagiarism tradeoff that comes with increasing the complexity of the autoregressive model\n",
        "- Get some experience building experiments that teach us about our models\n"
      ]
    },
    {
      "cell_type": "code",
      "execution_count": 1,
      "id": "f516d751",
      "metadata": {
        "id": "f516d751"
      },
      "outputs": [],
      "source": [
        "# Importing Libararies\n",
        "\n",
        "import random\n",
        "import numpy as np\n",
        "from tqdm import tqdm # Quality-of-life package, makes loading bars in for loops. See github.com/tqdm/tqdm for details.\n",
        "\n",
        "import matplotlib.pyplot as plt\n",
        "plt.style.use('classic') # Optional styling for the plots. I think it's pretty."
      ]
    },
    {
      "cell_type": "markdown",
      "id": "44c4727f",
      "metadata": {
        "id": "44c4727f"
      },
      "source": [
        "---\n",
        "\n",
        "# 1. Preprocessing text\n",
        "\n",
        "First, we have some code to help you download books from Project Gutenberg directly. The function `download_from_book_id(bookid, bookname)` will take the id of a book on Gutenberg and download it locally as the file `bookname.txt`.\n",
        "\n",
        "However, we will see that the `.txt` files hosted by Project Gutenberg have headers and footer containing some metadata and legal text. Your first coding task will be to remove that metadata and legal text.\n",
        "\n",
        "To use your own book of interest, search for it on Project Gutenberg, and take the number at the end of the url for that page. For instance, if you search for _The Count of Monte Cristo_, you will get the url `https://www.gutenberg.org/ebooks/1184`, and so the `bookid=1184` for that book.\n"
      ]
    },
    {
      "cell_type": "code",
      "source": [
        "#Code adapted from https://pypi.org/project/Gutenberg/ to help download from\n",
        "#Project Gutenberg (www.gutenberg.org/) automatically. You don't need to read this.\n",
        "\n",
        "def _format_download_urls(etextno):\n",
        "    \"\"\"\n",
        "    Returns the possible urls location on the Project Gutenberg servers for a\n",
        "    given text. Mostly ripped from https://pypi.org/project/Gutenberg/.\n",
        "    \"\"\"\n",
        "    uri_root = r'http://www.gutenberg.lib.md.us'\n",
        "\n",
        "    if 0 < etextno < 10:\n",
        "        oldstyle_files = (\n",
        "            'when11',\n",
        "            'bill11',\n",
        "            'jfk11',\n",
        "            'getty11',\n",
        "            'const11',\n",
        "            'liber11',\n",
        "            'mayfl11',\n",
        "            'linc211',\n",
        "            'linc111',\n",
        "        )\n",
        "        etextno = int(etextno)\n",
        "        return '{root}/etext90/{name}.txt'.format(\n",
        "            root=uri_root,\n",
        "            name=oldstyle_files[etextno - 1])\n",
        "\n",
        "    else:\n",
        "        etextno = str(etextno)\n",
        "        extensions = ('.txt', '-8.txt', '-0.txt')\n",
        "        urls = []\n",
        "        for extension in extensions:\n",
        "            uri = '{root}/{path}/{etextno}/{etextno}{extension}'.format(\n",
        "                root=uri_root,\n",
        "                path='/'.join(etextno[:len(etextno) - 1]),\n",
        "                etextno=etextno,\n",
        "                extension=extension)\n",
        "            urls.append(uri)\n",
        "        return urls"
      ],
      "metadata": {
        "id": "MOk_y4Aj0Zkd"
      },
      "id": "MOk_y4Aj0Zkd",
      "execution_count": 2,
      "outputs": []
    },
    {
      "cell_type": "code",
      "source": [
        "def download_from_book_id(bookid, bookname):\n",
        "  \"\"\"\n",
        "  Downloads a from book from Project Gutenberg given the book's id number, and\n",
        "  stores it locally in `bookname.txt`.\n",
        "\n",
        "  :param      bookid:    The id of the book on Project Gutenberg\n",
        "  :type       bookid:    int\n",
        "  :param      bookname:  The name to give the book (or rather the file path to the book)\n",
        "  :type       bookname:  str\n",
        "  \"\"\"\n",
        "\n",
        "  book_dst = f'{bookname}.txt'\n",
        "\n",
        "  import os\n",
        "  from six.moves import urllib\n",
        "\n",
        "  if os.path.isfile(book_dst):\n",
        "      print('File %s is already downloaded' % book_dst)\n",
        "  else:\n",
        "      possible_urls = _format_download_urls(bookid)\n",
        "      print(possible_urls)\n",
        "      for url in possible_urls:\n",
        "        print(f'trying {url}...')\n",
        "        try:\n",
        "          urllib.request.urlretrieve(url, book_dst)\n",
        "          print(f'Downloaded {bookname}.txt, with book id {bookid}.')\n",
        "          return\n",
        "        except urllib.error.HTTPError:\n",
        "          None\n",
        "      raise NameError(\"Couldn't find that book on Gutenberg\")\n"
      ],
      "metadata": {
        "id": "ulXqKx01wrpq"
      },
      "id": "ulXqKx01wrpq",
      "execution_count": 3,
      "outputs": []
    },
    {
      "cell_type": "code",
      "source": [
        "download_from_book_id(100, \"Shakespeare\")\n",
        "download_from_book_id(5200, \"Metamorphosis\")\n",
        "download_from_book_id(11, \"Wonderland\")\n",
        "download_from_book_id(1184, \"MonteCristo\")"
      ],
      "metadata": {
        "id": "vTY8h5320DaR",
        "colab": {
          "base_uri": "https://localhost:8080/"
        },
        "outputId": "fcb524d0-a049-4965-af37-d21ab146af3f"
      },
      "id": "vTY8h5320DaR",
      "execution_count": 4,
      "outputs": [
        {
          "output_type": "stream",
          "name": "stdout",
          "text": [
            "['http://www.gutenberg.lib.md.us/1/0/100/100.txt', 'http://www.gutenberg.lib.md.us/1/0/100/100-8.txt', 'http://www.gutenberg.lib.md.us/1/0/100/100-0.txt']\n",
            "trying http://www.gutenberg.lib.md.us/1/0/100/100.txt...\n",
            "trying http://www.gutenberg.lib.md.us/1/0/100/100-8.txt...\n",
            "trying http://www.gutenberg.lib.md.us/1/0/100/100-0.txt...\n",
            "Downloaded Shakespeare.txt, with book id 100.\n",
            "['http://www.gutenberg.lib.md.us/5/2/0/5200/5200.txt', 'http://www.gutenberg.lib.md.us/5/2/0/5200/5200-8.txt', 'http://www.gutenberg.lib.md.us/5/2/0/5200/5200-0.txt']\n",
            "trying http://www.gutenberg.lib.md.us/5/2/0/5200/5200.txt...\n",
            "trying http://www.gutenberg.lib.md.us/5/2/0/5200/5200-8.txt...\n",
            "trying http://www.gutenberg.lib.md.us/5/2/0/5200/5200-0.txt...\n",
            "Downloaded Metamorphosis.txt, with book id 5200.\n",
            "['http://www.gutenberg.lib.md.us/1/11/11.txt', 'http://www.gutenberg.lib.md.us/1/11/11-8.txt', 'http://www.gutenberg.lib.md.us/1/11/11-0.txt']\n",
            "trying http://www.gutenberg.lib.md.us/1/11/11.txt...\n",
            "trying http://www.gutenberg.lib.md.us/1/11/11-8.txt...\n",
            "trying http://www.gutenberg.lib.md.us/1/11/11-0.txt...\n",
            "Downloaded Wonderland.txt, with book id 11.\n",
            "['http://www.gutenberg.lib.md.us/1/1/8/1184/1184.txt', 'http://www.gutenberg.lib.md.us/1/1/8/1184/1184-8.txt', 'http://www.gutenberg.lib.md.us/1/1/8/1184/1184-0.txt']\n",
            "trying http://www.gutenberg.lib.md.us/1/1/8/1184/1184.txt...\n",
            "trying http://www.gutenberg.lib.md.us/1/1/8/1184/1184-8.txt...\n",
            "trying http://www.gutenberg.lib.md.us/1/1/8/1184/1184-0.txt...\n",
            "Downloaded MonteCristo.txt, with book id 1184.\n"
          ]
        }
      ]
    },
    {
      "cell_type": "markdown",
      "source": [
        "---\n",
        "\n",
        "Now we have stored `Shakespeare.txt`, `Metamorphosis.txt`, `Wonderland.txt`, and `MonteCristo.txt` locally. Let's open up one of these files and look at the first 1000 characters:\n",
        "\n",
        "---"
      ],
      "metadata": {
        "id": "Hx0AYYTM6qIC"
      },
      "id": "Hx0AYYTM6qIC"
    },
    {
      "cell_type": "code",
      "source": [
        "file_handle = open(\"Wonderland.txt\", encoding=\"utf8\")  # It's very important to mention utf8 encoding\n",
        "wonderland_book_text = file_handle.read()  # Copies the book as a string in memory\n",
        "file_handle.close()\n",
        "\n",
        "print(wonderland_book_text[0:1000])"
      ],
      "metadata": {
        "id": "iV8Kh-kG67S1",
        "colab": {
          "base_uri": "https://localhost:8080/"
        },
        "outputId": "9b86b183-ae44-44b9-e99b-440259e4c27e"
      },
      "id": "iV8Kh-kG67S1",
      "execution_count": 5,
      "outputs": [
        {
          "output_type": "stream",
          "name": "stdout",
          "text": [
            "﻿﻿*** START OF THE PROJECT GUTENBERG EBOOK ALICE'S ADVENTURES IN\n",
            "WONDERLAND ***\n",
            "[Illustration]\n",
            "\n",
            "\n",
            "\n",
            "\n",
            "Alice’s Adventures in Wonderland\n",
            "\n",
            "by Lewis Carroll\n",
            "\n",
            "THE MILLENNIUM FULCRUM EDITION 3.0\n",
            "\n",
            "Contents\n",
            "\n",
            " CHAPTER I.     Down the Rabbit-Hole\n",
            " CHAPTER II.    The Pool of Tears\n",
            " CHAPTER III.   A Caucus-Race and a Long Tale\n",
            " CHAPTER IV.    The Rabbit Sends in a Little Bill\n",
            " CHAPTER V.     Advice from a Caterpillar\n",
            " CHAPTER VI.    Pig and Pepper\n",
            " CHAPTER VII.   A Mad Tea-Party\n",
            " CHAPTER VIII.  The Queen’s Croquet-Ground\n",
            " CHAPTER IX.    The Mock Turtle’s Story\n",
            " CHAPTER X.     The Lobster Quadrille\n",
            " CHAPTER XI.    Who Stole the Tarts?\n",
            " CHAPTER XII.   Alice’s Evidence\n",
            "\n",
            "\n",
            "\n",
            "\n",
            "CHAPTER I.\n",
            "Down the Rabbit-Hole\n",
            "\n",
            "\n",
            "Alice was beginning to get very tired of sitting by her sister on the\n",
            "bank, and of having nothing to do: once or twice she had peeped into\n",
            "the book her sister was reading, but it had no pictures or\n",
            "conversations in it, “and what is the use of a book,” thought Alice\n",
            "“without pictures or conversations?”\n"
          ]
        }
      ]
    },
    {
      "cell_type": "markdown",
      "source": [
        "---\n",
        "\n",
        "We can see that most of this is legal exta and metadata we do not want to include in our machine learning model. Conveniantly, Project Gutenberg added the following line of text to each book at the start:\n",
        "> `*** START OF THE PROJECT GUTENBERG EBOOK`\n",
        "\n",
        "Similarly, the end of the book has a huge amount of text (about 20,000 characters) that is not actually part of the book. Again, Project Gutenberg has the following line of text to note where the actual book ends:\n",
        "> `*** END OF THE PROJECT GUTENBERG EBOOK`\n",
        "\n",
        "Your first task is to write the following function `word_sequence_from_file`. This function is given a filepath to a locally downloaded Project Gutenberg book. It reads that file, finds where the text of the book actually starts and ends (i.e. without metadata and legal text), and returns the text of the book as a list of strings.\n",
        "\n",
        "You should use the command `str.split()` to turn a string into a list of words. An example is given below."
      ],
      "metadata": {
        "id": "Juxrpr637OWR"
      },
      "id": "Juxrpr637OWR"
    },
    {
      "cell_type": "code",
      "source": [
        "# An example of string splitting\n",
        "\"This is a string.\\n\\n\\nIt has a new line     and \\t lots of whitespace in it. Some punctuation too -- like this!!!\".split()"
      ],
      "metadata": {
        "id": "8SeruBK79kEr",
        "colab": {
          "base_uri": "https://localhost:8080/"
        },
        "outputId": "06d13e46-3371-417d-c220-d032e3f90bc1"
      },
      "id": "8SeruBK79kEr",
      "execution_count": 6,
      "outputs": [
        {
          "output_type": "execute_result",
          "data": {
            "text/plain": [
              "['This',\n",
              " 'is',\n",
              " 'a',\n",
              " 'string.',\n",
              " 'It',\n",
              " 'has',\n",
              " 'a',\n",
              " 'new',\n",
              " 'line',\n",
              " 'and',\n",
              " 'lots',\n",
              " 'of',\n",
              " 'whitespace',\n",
              " 'in',\n",
              " 'it.',\n",
              " 'Some',\n",
              " 'punctuation',\n",
              " 'too',\n",
              " '--',\n",
              " 'like',\n",
              " 'this!!!']"
            ]
          },
          "metadata": {},
          "execution_count": 6
        }
      ]
    },
    {
      "cell_type": "code",
      "execution_count": 7,
      "id": "832de4e4",
      "metadata": {
        "id": "832de4e4"
      },
      "outputs": [],
      "source": [
        "def word_sequence_from_file(filepath):\n",
        "    \"\"\"\n",
        "    Given a filepath to a text file for a Project Gutenberg book, this splits\n",
        "    the book into a list of strings, where each string is a word from the book.\n",
        "    Foratting data, like where \\n or spaces happen is destroyed by this, but\n",
        "    punctuation like \"word.\" are preserved.\n",
        "\n",
        "    :param      filepath:  The filepath to the book\n",
        "    :type       filepath:  string\n",
        "\n",
        "    :returns:   A list of strings without any whitespace.\n",
        "    :rtype:     List of string\n",
        "    \"\"\"\n",
        "\n",
        "    # Open the file\n",
        "    file_handle = open(filepath, encoding=\"utf8\")\n",
        "    raw_book_text = file_handle.read()  # Copies the book as a string in memory\n",
        "    file_handle.close()\n",
        "    start_index = raw_book_text.find(\"*** START OF THE PROJECT GUTENBERG EBOOK\")\n",
        "    start_index += len(\"*** START OF THE PROJECT GUTENBERG EBOOK ***\" + filepath)\n",
        "\n",
        "\n",
        "    end_index = raw_book_text.find(\"*** END OF THE PROJECT GUTENBERG EBOOK\")\n",
        "    word_sequence = raw_book_text[start_index:end_index].split()\n",
        "\n",
        "    # TODO: Write this function.\n",
        "\n",
        "    return word_sequence"
      ]
    },
    {
      "cell_type": "code",
      "execution_count": 8,
      "id": "4909c91b",
      "metadata": {
        "id": "4909c91b"
      },
      "outputs": [],
      "source": [
        "shakespeare = word_sequence_from_file(\"Shakespeare.txt\")\n",
        "metamorphosis = word_sequence_from_file(\"Metamorphosis.txt\")\n",
        "wonderland = word_sequence_from_file(\"Wonderland.txt\")\n",
        "montecristo = word_sequence_from_file(\"MonteCristo.txt\")"
      ]
    },
    {
      "cell_type": "markdown",
      "source": [
        "To verify that the text looks correct, we can use `\" \".join(word_sequence)` to turn a list of strings back into text. Note that we have replaced all whitespace with just a space, so the formatting looks a bit different. The words should be the same though."
      ],
      "metadata": {
        "id": "7HIVVjeidrhd"
      },
      "id": "7HIVVjeidrhd"
    },
    {
      "cell_type": "code",
      "source": [
        "# Prints the first 100 words from Kafka's Metamorphosis\n",
        "# It's okay if there's a couple extra words at the beginning like\n",
        "# > \"by Franz Kafka Translated by David Wyllie\"\n",
        "# This is just a couple words that will not change our model significantly\n",
        "\n",
        "display(\" \".join(metamorphosis[-100:]))"
      ],
      "metadata": {
        "id": "8K4_Uq_TeBcD",
        "colab": {
          "base_uri": "https://localhost:8080/",
          "height": 53
        },
        "outputId": "3f55ceb9-3aa0-4f12-93db-052110e0f955"
      },
      "id": "8K4_Uq_TeBcD",
      "execution_count": 9,
      "outputs": [
        {
          "output_type": "display_data",
          "data": {
            "text/plain": [
              "'had been having of late her cheeks had become pale, but, while they were talking, Mr. and Mrs. Samsa were struck, almost simultaneously, with the thought of how their daughter was blossoming into a well built and beautiful young lady. They became quieter. Just from each other’s glance and almost without knowing it they agreed that it would soon be time to find a good man for her. And, as if in confirmation of their new dreams and good intentions, as soon as they reached their destination Grete was the first to get up and stretch out her young body.'"
            ],
            "application/vnd.google.colaboratory.intrinsic+json": {
              "type": "string"
            }
          },
          "metadata": {}
        }
      ]
    },
    {
      "cell_type": "markdown",
      "source": [
        "---\n",
        "\n",
        "#2. Learning an Autoregressive Model\n",
        "\n",
        "We will explore a probabilistic model of the English language. We will describe this as a generative model; that is, we describe how book is randomly generated.\n",
        "\n",
        "\n",
        "\n",
        "We can approximate the structure of a book using a simple model called a **Markov Model** or autoregressive model. A markov model of **order** 0 predicts that each word in the book occurs with a fixed probability, independent of all other words. We can fit such a model to the book by counting the number of occurances of each word in that text, and using these counts as probabilities. For example, we could generate the following sentence from Kafka's _Metamorphosis_:\n",
        "\n",
        "> and calmness her he way “Gregor! to thought, dark bone fact, in they it than she way as bringing\n",
        "\n",
        "This obviously misses basic grammar because the model chooses each word independently.\n",
        "This does not capture how language works, since in reality there are huge correlations between consequtive words. For example, in English, adjectives typically come before nouns -- we say \"a red boat\" not \"a boat red\".\n",
        "\n",
        "We get a more complex model by allowing the probability of choosing each successive word to depend on the preceding words. A **Markov Model of order $k$** predicts that each word occurs with some probability, but that probability depends on the previous $k$ consequtive words, called a **k-gram**.\n",
        "\n",
        "> For example, suppose a book has the string `My name is` appear 10 times in it. 4 of those times are followed by `Alice`, 2 of those are followed by `Bob`, 2 by `Jesse`, and 2 by `Steve`. Then, a Markov Model of order 3 predicts that the word following the 3-gram `My name is` will be `Alice` with probability $\\frac{4}{10}$, `Bob` with probability $\\frac{2}{10}$, `Jesse` with probability $\\frac{2}{10}$, and `Steve` with probability $\\frac{2}{10}$.\n",
        "\n",
        "\n",
        "---\n",
        "_This text introduction to Markov Models is a paraphrasing of the [this](https://www.cs.princeton.edu/courses/archive/spr05/cos126/assignments/markov.html) assignment taught at Princeton, originally taught by Bob Sedgewick and Kevin Wayne._\n",
        "\n",
        "---\n",
        "\n",
        "Your next task is to write the following function, which, for each k-gram in a book, counts the frequency with which each word appears after that k-gram."
      ],
      "metadata": {
        "id": "Yj9psl0f-sZM"
      },
      "id": "Yj9psl0f-sZM"
    },
    {
      "cell_type": "code",
      "execution_count": 10,
      "id": "eef27074",
      "metadata": {
        "id": "eef27074"
      },
      "outputs": [],
      "source": [
        "def make_freq_dict(k, word_sequence):\n",
        "    \"\"\"\n",
        "    Makes a \"frequency dictionary\" called `freq_dict` from a sequence of words.\n",
        "    For each k-gram that appears in `word_sequence`, freq_dict[k_gram] is\n",
        "    another dictionary that maps words to how often they occur after k_gram.\n",
        "\n",
        "    For example, if k=3, suppose that running `freq_dict[\"they did something\"]`\n",
        "    returns following dictionary:\n",
        "        {\n",
        "            \"weird\": 4,\n",
        "            \"funny\": 3,\n",
        "            \"strange.\": 7\n",
        "        }\n",
        "    Then, the `word_sequence` has the phrase \"they did something weird\" appear\n",
        "    4 times, \"they did something funny\" appear 3 times, and \"they did something\n",
        "    strange.\" appear 7 times. In other words,\n",
        "    `freq_dict[\"they did something\"][\"strange\"]` returns how many times\n",
        "    \"they did something strange\" appears in `word_sequence`.\n",
        "\n",
        "    :param      k:              Size of k-gram\n",
        "    :type       k:              int\n",
        "    :param      word_sequence:  A book, broken up into a list of strings\n",
        "    :type       word_sequence:  List of string\n",
        "\n",
        "    :returns:   Frequency dictionary\n",
        "    :rtype:     Dict that maps strings to {Dict that maps string to ints}\n",
        "    \"\"\"\n",
        "\n",
        "    # Make empty dict to count frequencies\n",
        "    freq_dict = dict()\n",
        "    for i in range(len(word_sequence) - k):\n",
        "        k_gram = \" \".join(word_sequence[i:i + k])\n",
        "        next_word = word_sequence[i + k]\n",
        "\n",
        "        if k_gram not in freq_dict:\n",
        "            freq_dict[k_gram] = dict()\n",
        "\n",
        "        if next_word not in freq_dict[k_gram]:\n",
        "            freq_dict[k_gram][next_word] = 0\n",
        "\n",
        "        freq_dict[k_gram][next_word] += 1\n",
        "\n",
        "    return freq_dict\n",
        "    ## TODO: WRITE THIS CODE\n",
        "\n",
        "    return freq_dict"
      ]
    },
    {
      "cell_type": "markdown",
      "source": [
        "---\n",
        "\n",
        "Next, write the following functions that use a `freq_dict` to predict the next words given a $k$-gram, and to generate a whole paragraph given a starting $k$-gram. Be sure to carefully read the descriptions of the functions."
      ],
      "metadata": {
        "id": "8tR642y-10aD"
      },
      "id": "8tR642y-10aD"
    },
    {
      "cell_type": "code",
      "execution_count": 11,
      "id": "904152b3",
      "metadata": {
        "id": "904152b3"
      },
      "outputs": [],
      "source": [
        "def predict_next_word(this_kgram, freq_dict):\n",
        "    \"\"\"\n",
        "    Randomly picks the next work given the previous k-gram, using the frequency\n",
        "    of possible next works according to `freq_dict`. If `freq_dict` does not\n",
        "    contain the k-gram, return None.\n",
        "\n",
        "    :param      this_kgram:  The current k-gram\n",
        "    :type       this_kgram:  string\n",
        "    :param      freq_dict:   A frequency dictionary\n",
        "    :type       freq_dict:   Dict that maps strings to {Dict that maps string to ints}\n",
        "\n",
        "    :returns:   The next word, or None\n",
        "    :rtype:     string or None\n",
        "    \"\"\"\n",
        "\n",
        "    ## TODO: WRITE THIS FUNCTION\n",
        "    ## random.choices() will be useful here\n",
        "    this_kgram = \" \".join(this_kgram)\n",
        "    if this_kgram not in freq_dict:\n",
        "      return None\n",
        "    next_word_dict = freq_dict[this_kgram]\n",
        "    next_words = list(next_word_dict.keys())\n",
        "    weights = list(next_word_dict.values())\n",
        "    next_word = random.choices(next_words,weights,k=1)[0]\n",
        "    return next_word\n",
        "\n",
        "\n",
        "def predict_paragraph(start_kgram, k, freq_dict, gen_length=300):\n",
        "    \"\"\"\n",
        "    Given a starting k-gram, this randomly generates `gen_length` many new\n",
        "    words to form a paragraph of text consistent with `freq_dict`. If the last\n",
        "    word in the book is generated (i.e. if `predict_next_word` returns None),\n",
        "    then this will short-circuit and stop generating words early.\n",
        "\n",
        "    :param      start_kgram:  The kgram to start from.\n",
        "    :type       start_kgram:  List of string\n",
        "    :param      k:            k-gram size\n",
        "    :type       k:            int\n",
        "    :param      freq_dict:    A frequency dictionary\n",
        "    :type       freq_dict:    Dict that maps strings to {Dict that maps string to ints}\n",
        "    :param      gen_length:   The number of words to generate.\n",
        "    :type       gen_length:   int\n",
        "\n",
        "    :returns:   A generated paragraph\n",
        "    :rtype:     List of string\n",
        "    \"\"\"\n",
        "    gen_words = start_kgram.copy()\n",
        "    ## TODO: WRITE THIS FUNCTION\n",
        "    for _ in range(gen_length):\n",
        "        current_kgram = gen_words[-k:]\n",
        "        next_word = predict_next_word(current_kgram, freq_dict)\n",
        "        if next_word == None:\n",
        "            break\n",
        "        gen_words.append(next_word)\n",
        "    gen_para = gen_words\n",
        "\n",
        "    return gen_para"
      ]
    },
    {
      "cell_type": "markdown",
      "source": [
        "With these functions, we can run some sample code and see how well our synthetic text generator works! Mess around with the value of `k_test` below to see how changing the size of the $k$-gram impacts the quality of the generated  text. You can also swap out the book from _Metamorphosis_ to any other book you prefer. Lastly, you can change what the starting $k$-gram is by changing `start_test` to some other $k$-gram that appears in your book.\n",
        "\n",
        "- When you are done, leave this at `k_test=3` and move onto the next section.\n",
        "\n"
      ],
      "metadata": {
        "id": "m39BmzND31r6"
      },
      "id": "m39BmzND31r6"
    },
    {
      "cell_type": "code",
      "execution_count": 12,
      "id": "e833848d",
      "metadata": {
        "id": "e833848d",
        "colab": {
          "base_uri": "https://localhost:8080/",
          "height": 70
        },
        "outputId": "68dc40ba-4e9d-4fdb-d7a9-d4feebb2bd96"
      },
      "outputs": [
        {
          "output_type": "execute_result",
          "data": {
            "text/plain": [
              "'the doctor straight away. Gregor is ill. Quick, get the doctor. Did you hear the way Gregor spoke just now?” “That was the voice of an animal”, said the chief clerk exclaim a loud “Oh!”, which sounded like the soughing of the wind. Now he also saw him—he was the nearest to the door—his hand pressed against his open mouth and slowly retreating as if driven by a steady and invisible force. Gregor’s mother, her hair still dishevelled from bed despite the chief clerk’s being there, looked at his father. Then she unfolded her arms, took two steps forward towards Gregor and sank down onto the carpet. His main concern was for the loud noise he was bound to make, and which even through all the doors were locked? Despite all the difficulty he was in, he could not open the door and he would have been easier for him to keep his balance if he rocked too hard. The time was now ten past seven and he would pull it up again with a start, as even the slightest noise he caused would be heard next door and they would all go silent. “What’s that he’s doing now”, his father would become impatient, and there was the threat of a lethal blow to his back or the inflamed area around it, which was entirely covered in white dust. He thought back of his family with emotion and love. If it was possible, he felt that he must go away even more strongly than his sister. He remained in this state of empty and peaceful rumination until he heard the clock tower strike three in the morning. He watched as it slowly began to get light everywhere outside the window too. Then, without his willing it, his head sank down completely, and his'"
            ],
            "application/vnd.google.colaboratory.intrinsic+json": {
              "type": "string"
            }
          },
          "metadata": {},
          "execution_count": 12
        }
      ],
      "source": [
        "# Pick k and make a frequency dictionary from Metamorphosis.\n",
        "k_test = 3\n",
        "freq_dict_test = make_freq_dict(k_test, metamorphosis)\n",
        "\n",
        "# pick a random starting k-gram from the freq-dict.\n",
        "start_test = random.choice(list(freq_dict_test.keys())).split()\n",
        "\n",
        "# Alternatively, pick the start of the book as the first k-gram\n",
        "# start_test = metamorphosis[0:k_test]\n",
        "\n",
        "# Generate a paragraph, and print it.\n",
        "gen_paragraph = predict_paragraph(start_test, k_test, freq_dict_test)\n",
        "\" \".join(gen_paragraph)"
      ]
    },
    {
      "cell_type": "markdown",
      "source": [
        "---\n",
        "\n",
        "#3. Creativive or Copying?\n",
        "\n",
        "This has effectively generated a nice paragraph of text that really feels in the style of Kafka/Shakespeare/etc. It is writing whole sentences that usually feel like valid English. While it is not writing fully coherent paragraphs, it is nevertheless pretty effective. But we quickly run into a common issue with generative models: is this $k$-gram model creating new sentences, or is it just copying whole passages from the original text? For instance, all $k$-grams in our generated text must exist in the original book.\n",
        "\n",
        "We approach this question with a very simple metric to check for plagiarism: the **Longest Common Substring** (LCS). Below, we use the `LcsFinder` class to do two things:\n",
        "1. We compute the length of the longest common substring between the full book and our generated paragraph.\n",
        "1. We visualize long common substrings using a simple approach: starting from the first word of the generated paragraph, we color all of the following words that appear in that same order in the original text in one color. We switch colors everytime the generated text deviates from the original text."
      ],
      "metadata": {
        "id": "b1lkydsc2pAb"
      },
      "id": "b1lkydsc2pAb"
    },
    {
      "cell_type": "markdown",
      "id": "aed49938",
      "metadata": {
        "id": "aed49938"
      },
      "source": [
        "## 3.0 Code we give to you\n",
        "\n",
        "This is the class `LcsFinder`. Construct it with `LcsFinder(word_sequence)`, where `word_sequence` is a long list of strings (i.e. a book). Once constructed, there's two functions you might want to use:\n",
        "1. `LcsFinder.lcs_length(small_sequence)`, which finds the length of the Longest Common Substring (LCS) of `small_sequence` and `word_sequence`. `small_sequence` should also be a list of strings.\n",
        "2. `LcsFinder.greedy_lcs_markdown(small_sequence)`, which takes `small_sequence` and uses Markdown to highlight substrings of that text, where each substring of `small_sequence` is also a substring of `word_sequence`. It uses a greedy strategy to heuristically make these substrings as long as possible.\n",
        "\n",
        "You don't need to understand how the code in section 3.0 works, but you should understand how to use it. The first code block below is the actual code implimentation, and the two code blocks after that show how to run the code.\n",
        "\n",
        "_You can expand the code blocks by clocking on <font color=\"blue\">Show code</font>, and can hide the code again with the `Show/hide code` menu in the command pallate, which you can open with the key command `cmd-shift-p`._"
      ]
    },
    {
      "cell_type": "code",
      "execution_count": 13,
      "id": "19155c27",
      "metadata": {
        "id": "19155c27"
      },
      "outputs": [],
      "source": [
        "#The code that impliments `LcsFinder`\n",
        "\n",
        "from IPython.display import display, Markdown #\n",
        "\n",
        "# Colors to use in the Markdown Text\n",
        "md_colors = [\"#009292\", \"#FF6DB6\", \"#490092\", \"#006DDB\", \"#B66DFF\", \"#920000\", \"#DB6D00\"]\n",
        "\n",
        "def list_of_seqs_to_markdown(list_of_sequences):\n",
        "    \"\"\"\n",
        "    Takes in a list-of-list-of-strings, and colors each sublist with a single\n",
        "    color cycling through the list `md_colors` to pick those colors\n",
        "\n",
        "    :param      list_of_sequences:  List of list of words\n",
        "    :type       list_of_sequences:  List of list of words\n",
        "    \"\"\"\n",
        "\n",
        "    # The output string\n",
        "    display_string = \"\"\n",
        "    for i, word_sequence in enumerate(list_of_sequences):\n",
        "        display_string = display_string + f'<font color={md_colors[i % len(md_colors)]}>{\" \".join(word_sequence)}</font> '\n",
        "\n",
        "    # Draw that string with Markdown\n",
        "    display(Markdown(display_string))\n",
        "\n",
        "\n",
        "class LcsFinder:\n",
        "    \"\"\"\n",
        "    Internally, this class takes `word_sequence` and\n",
        "    builds a hash table from any k-gram that appears in\n",
        "    `word_sequence` to the list of all indices where that\n",
        "    k-gram appears in `word_sequence`. This makes finding\n",
        "    the LCS pretty fast.\n",
        "    It also stores a set of all less-than-k grams that appear\n",
        "    in the text, but just as a set and not as a hash table.\n",
        "    \"\"\"\n",
        "\n",
        "    def __init__(self, word_sequence, k=3):\n",
        "        \"\"\"\n",
        "        By default, this hash table uses 3-grams, this seems to work well. Feel\n",
        "        free to pass in a different k-value, though keep in mind this is a\n",
        "        heuristic speedup, and is unrelated to the k-gram from the language\n",
        "        model.\n",
        "\n",
        "        :param      word_sequence:  A book\n",
        "        :type       word_sequence:  List of strings\n",
        "        :param      k:              Heuristic k-gram size for efficient lookup\n",
        "        :type       k:              int\n",
        "        \"\"\"\n",
        "        self.k = k\n",
        "        self.word_sequence = word_sequence\n",
        "        self.index_hash = dict()\n",
        "        self.short_gram_set = set()\n",
        "\n",
        "        for i in range(len(word_sequence)-k):\n",
        "\n",
        "            k_gram = \" \".join(word_sequence[i:i+k])  # Build this k-gram\n",
        "            if k_gram not in self.index_hash:\n",
        "                self.index_hash[k_gram] = []  # Add it to the hash table if it ain't there\n",
        "            self.index_hash[k_gram].append(i)  # And add the index to the list\n",
        "\n",
        "            # Update the set of short grams with all possible grams starting at i, and with length < k.\n",
        "            self.short_gram_set.update({\" \".join(word_sequence[i:i+j]) for j in range(1,k)})\n",
        "\n",
        "    def length_of_lcs_from_start(self, small_sequence, start_idx):\n",
        "        \"\"\"\n",
        "        Look for the longest common substring of word_sequence and\n",
        "        small_sequence, subject to the substring starting at\n",
        "        `small_sequence[start_idx]`. Returns the length of this LCS, measured in\n",
        "        words.\n",
        "\n",
        "        :param      small_sequence:  A small word sequence\n",
        "        :type       small_sequence:  List of strings\n",
        "        :param      start_idx:       The index where the LCS has to start at\n",
        "        :type       start_idx:       int\n",
        "\n",
        "        :returns:   Length of the LCS, measure in words\n",
        "        :rtype:     int\n",
        "        \"\"\"\n",
        "\n",
        "        # Build the k-gram rooted at start_idx\n",
        "        start_k_gram = \" \".join(small_sequence[start_idx:start_idx+self.k])\n",
        "\n",
        "        # If the k-gram is in the big hash table,\n",
        "        if start_k_gram in self.index_hash:\n",
        "\n",
        "            longest = 0\n",
        "\n",
        "            # Scan over all indices in the list in the hash table\n",
        "            for word_seq_index in self.index_hash[start_k_gram]:\n",
        "\n",
        "                # While loop, starting at size k, expanding the length of the LCS until the sequences stop matching\n",
        "                i = self.k\n",
        "                while (word_seq_index + i < len(self.word_sequence) and # in-bounds on word_sequence\n",
        "                       start_idx + i < len(small_sequence) and # in-bounds on small_sequence\n",
        "                       self.word_sequence[word_seq_index + i] == small_sequence[start_idx + i]): # the words are the same\n",
        "                    i = i+1\n",
        "\n",
        "                # The length of the longest LCS seen so far is kept\n",
        "                longest = max(longest, i)\n",
        "            return longest\n",
        "        else:\n",
        "            # If the k-gram ain't in the big hash table, check if it's sub-grams are in the stored set\n",
        "            for i in range(self.k-1,0,-1): # In order from k-1 to 1\n",
        "                if \" \".join(small_sequence[start_idx:start_idx+i]) in self.short_gram_set:\n",
        "                    return i\n",
        "            return 0\n",
        "\n",
        "    def lcs_length(self, small_sequence):\n",
        "        \"\"\"\n",
        "        Given `small_sequence`, a list of strings, this returns the length of\n",
        "        the longest common substring between `small_sequence` and\n",
        "        `word_sequence`\n",
        "\n",
        "        :param      small_sequence:  A small sequence of words\n",
        "        :type       small_sequence:  List of strings\n",
        "\n",
        "        :returns:   Length of the LCS, measured in words\n",
        "        :rtype:     int\n",
        "        \"\"\"\n",
        "        longest = 0\n",
        "\n",
        "        # Just iterative over all starting words in `small_sequence` and keep the biggest number\n",
        "        for i in range(len(small_sequence)):\n",
        "            sequence_len = self.length_of_lcs_from_start(small_sequence, i)\n",
        "            longest = max(longest, sequence_len)\n",
        "\n",
        "        return longest\n",
        "\n",
        "    # Given `small_sequence`, a list of strings, this prints highlighted markdown that shows where one substring of `word_sequence` ends and the next one starts. If a word doesn't appear in `word_sequence`, we just treat it like a substring of length 1.\n",
        "\n",
        "    def greedy_lcs_markdown(self, small_sequence):\n",
        "        \"\"\"\n",
        "        Given `small_sequence`, a list of strings, this prints highlighted\n",
        "        markdown that shows where one substring of `word_sequence` ends and the\n",
        "        next one starts. If a word doesn't appear in `word_sequence`, we just\n",
        "        treat it like a substring of length 1.\n",
        "\n",
        "        :param      small_sequence:  A small sequence of words\n",
        "        :type       small_sequence:  List of strings\n",
        "\n",
        "        :returns:   Markdown display text (renders by default on Jupyter)\n",
        "        :rtype:     Markdown display text\n",
        "        \"\"\"\n",
        "        list_of_sequences = []  # The output list\n",
        "\n",
        "        i = 0\n",
        "        while i < len(small_sequence):\n",
        "            # iteratate over small_sequence, finding the lcs rooted at index i,\n",
        "            # and color that LCS accordingly.\n",
        "            sequence_len = max(self.length_of_lcs_from_start(small_sequence, i), 1)\n",
        "            list_of_sequences.append(small_sequence[i:i+sequence_len])\n",
        "            i = i + sequence_len\n",
        "\n",
        "        return list_of_seqs_to_markdown(list_of_sequences)\n"
      ]
    },
    {
      "cell_type": "code",
      "execution_count": 14,
      "id": "b6aa92f2",
      "metadata": {
        "scrolled": true,
        "id": "b6aa92f2",
        "cellView": "form",
        "colab": {
          "base_uri": "https://localhost:8080/",
          "height": 46
        },
        "outputId": "57fa61a4-d0d6-4337-b99b-f58fc109370a"
      },
      "outputs": [
        {
          "output_type": "display_data",
          "data": {
            "text/plain": [
              "<IPython.core.display.Markdown object>"
            ],
            "text/markdown": "The length of the LCS between `test_word_sequence` and `test_small_sequence` is 5."
          },
          "metadata": {}
        }
      ],
      "source": [
        "#@markdown An example of how to build an `LcsFinder`. The `str.split()` function turns the string into a list of string.\n",
        "test_word_sequence = \"wow this is a sentence that I wrote like wow this is a real thing\".split(\" \")\n",
        "test_small_sequence = \"heck this is a sentence that is sgetti\".split(\" \")\n",
        "\n",
        "test_LCS_finder = LcsFinder(test_word_sequence)\n",
        "test_lcs_length = test_LCS_finder.lcs_length(test_small_sequence)\n",
        "display(Markdown(f'The length of the LCS between `test_word_sequence` and `test_small_sequence` is {test_lcs_length}.'))"
      ]
    },
    {
      "cell_type": "code",
      "execution_count": 15,
      "id": "67e21af9",
      "metadata": {
        "scrolled": true,
        "id": "67e21af9",
        "cellView": "form",
        "colab": {
          "base_uri": "https://localhost:8080/",
          "height": 46
        },
        "outputId": "7e0ee808-4824-42b5-f269-5b755ee87d9b"
      },
      "outputs": [
        {
          "output_type": "display_data",
          "data": {
            "text/plain": [
              "<IPython.core.display.Markdown object>"
            ],
            "text/markdown": "<font color=#009292>heck</font> <font color=#FF6DB6>this is a sentence that</font> <font color=#490092>is</font> <font color=#006DDB>sgetti</font> "
          },
          "metadata": {}
        }
      ],
      "source": [
        "#@markdown An example of coloring the `small_sequence` by all the LCS's found in the word_sequence.\n",
        "test_LCS_finder.greedy_lcs_markdown(test_small_sequence)"
      ]
    },
    {
      "cell_type": "markdown",
      "source": [
        "## 3.1 LCS on Generated Text"
      ],
      "metadata": {
        "id": "T8kj9s3hdmRq"
      },
      "id": "T8kj9s3hdmRq"
    },
    {
      "cell_type": "code",
      "execution_count": 16,
      "id": "a91d132d",
      "metadata": {
        "id": "a91d132d",
        "colab": {
          "base_uri": "https://localhost:8080/",
          "height": 220
        },
        "outputId": "d8c3b7e7-41ea-4fd3-a5c7-66d316bcb8c6"
      },
      "outputs": [
        {
          "output_type": "stream",
          "name": "stdout",
          "text": [
            "LCS length: 89 words\n"
          ]
        },
        {
          "output_type": "display_data",
          "data": {
            "text/plain": [
              "<IPython.core.display.Markdown object>"
            ],
            "text/markdown": "<font color=#009292>the doctor straight away. Gregor is ill. Quick, get the doctor. Did you hear the way Gregor spoke just now?” “That was the voice of an animal”, said the chief</font> <font color=#FF6DB6>clerk exclaim a loud “Oh!”, which sounded like the soughing of the wind. Now he also saw him—he was the nearest to the door—his hand pressed against his open mouth and slowly retreating as if driven by a steady and invisible force. Gregor’s mother, her hair still dishevelled from bed despite the chief clerk’s being there, looked at his father. Then she unfolded her arms, took two steps forward towards Gregor and sank down onto the</font> <font color=#490092>carpet. His main concern was for the loud noise he was bound to make, and which even through all the doors</font> <font color=#006DDB>were locked? Despite all the difficulty he was in, he could not</font> <font color=#B66DFF>open the door and he would</font> <font color=#920000>have been easier for him to</font> <font color=#DB6D00>keep his balance if he rocked too hard. The time was now ten past seven and he would</font> <font color=#009292>pull it up again with a start, as even the slightest noise he caused would be heard next door and they would all go silent. “What’s that he’s doing now”, his father would</font> <font color=#FF6DB6>become impatient, and there was the threat of a lethal blow to his back or</font> <font color=#490092>the inflamed area around it, which was entirely covered in white dust. He thought back of his family with emotion and love. If it was possible, he felt that he must go away even more strongly than his sister. He remained in this state of empty and peaceful rumination until he heard the clock tower strike three in the morning. He watched as it slowly began to get light everywhere outside the window too. Then, without his willing it, his head sank down completely, and his</font> "
          },
          "metadata": {}
        }
      ],
      "source": [
        "# Build an LcsFinder for Metamorphosis\n",
        "metamorphosis_finder = LcsFinder(metamorphosis)\n",
        "\n",
        "# Use the LcsFinder to find the LCS length in the generated paragraph\n",
        "print(f'LCS length: {metamorphosis_finder.lcs_length(gen_paragraph)} words')\n",
        "\n",
        "# Use the LcsFinder to highlight substrings in the generated text that appear in the original text.\n",
        "metamorphosis_finder.greedy_lcs_markdown(gen_paragraph)"
      ]
    },
    {
      "cell_type": "markdown",
      "source": [
        "---\n",
        "Note that in the paragraph above, every chunk of text in the same color was copied directly from the original book.\n",
        "This shows a non-trivial amount of copying going on. Despite only using $3$-grams, we are often copying much more than 3 words at a time from the original book. Sometimes, we are copying whole sentences.\n",
        "\n",
        "We find ourselves at an impass:\n",
        "- If we make $k$ too small, then we lose the structure of grammer, and generate nonsense.\n",
        "- If we make $k$ too large, then we start plagiarizing.\n",
        "\n",
        "Let's try to understand the scale of this problem. Take a book, generate 100 paragraphs of 300 words for each of 5 different values of $k$, and compute the length of the LCS between the book and the generated paragraph. Specifically, compute the $25^{th}$ quartile, median, and $75^{th}$ quartile of the LCS length across the 100 trials."
      ],
      "metadata": {
        "id": "R4lripGN6ldT"
      },
      "id": "R4lripGN6ldT"
    },
    {
      "cell_type": "code",
      "execution_count": 17,
      "id": "2cd8d2f6",
      "metadata": {
        "id": "2cd8d2f6"
      },
      "outputs": [],
      "source": [
        "# Which values of k to generate k-grams for and estimate LCS lengths with\n",
        "ks_to_plot = [1, 2, 3, 4, 5]\n",
        "\n",
        "def gen_lcs_statistics(word_sequence):\n",
        "    \"\"\"\n",
        "    Given a word_sequence, this generates 100 paragraphs of length 300\n",
        "    at each of various choices of k-gram size (see `ks_to_plot`). It then\n",
        "    returns the median, 25th quartile, and 75th quartile of the LCS's length\n",
        "    at each value of k.\n",
        "\n",
        "    More precisely, it should return a dictionary with the following shape:\n",
        "        {\n",
        "            \"medians\": np.array([numbers...]),\n",
        "            \"top_quartiles\": np.array([numbers...]),\n",
        "            \"bot_quartiles.\": np.array([numbers...])\n",
        "        }\n",
        "    Where top_quartiles is for the 75^th quartile, and bot_quartiles is for the 25^th quartile.\n",
        "\n",
        "    :param      word_sequence:  The book\n",
        "    :type       word_sequence:  List of string\n",
        "\n",
        "    :returns:   A dictionary with keys \"medians\", \"top_quartiles\",\n",
        "                \"bot_quartiles\", and values which are numpy vectors\n",
        "                with the same length as `ks_to_plot`.\n",
        "    :rtype:     Dict that maps string to numpy array\n",
        "    \"\"\"\n",
        "\n",
        "    n_trials = 100  # number of trials\n",
        "    gen_length_test = 300  # number of words to generate\n",
        "\n",
        "    lcs_lengths = np.zeros((len(ks_to_plot), n_trials))\n",
        "    lcs_finder = LcsFinder(word_sequence)\n",
        "\n",
        "    ## TODO: WRITE THIS CODE\n",
        "    ## It will be helpful to use np.quantile and np.median\n",
        "    for idx, k in enumerate(ks_to_plot):\n",
        "        print(f\"Processing k={k}...\")\n",
        "\n",
        "        freq_dict = make_freq_dict(k, word_sequence)\n",
        "\n",
        "\n",
        "        kgrams = list(freq_dict.keys())\n",
        "\n",
        "        if not kgrams:\n",
        "            print(f\"No k-grams found for k={k}. Skipping...\")\n",
        "\n",
        "            lcs_lengths[idx, :] = np.nan\n",
        "            continue\n",
        "\n",
        "        for trial in range(n_trials):\n",
        "\n",
        "            start_kgram = random.choice(kgrams).split()\n",
        "\n",
        "\n",
        "            generated_paragraph = predict_paragraph(start_kgram, k, freq_dict, gen_length=gen_length_test)\n",
        "\n",
        "            generated_words = generated_paragraph.copy()\n",
        "\n",
        "\n",
        "            lcs_length = lcs_finder.lcs_length(generated_words)\n",
        "\n",
        "\n",
        "            lcs_lengths[idx, trial] = lcs_length\n",
        "\n",
        "\n",
        "    lcs_length_medians = np.median(lcs_lengths, axis=1)\n",
        "    lcs_length_tops = np.quantile(lcs_lengths, 0.75, axis=1)\n",
        "    lcs_length_bots = np.quantile(lcs_lengths, 0.25, axis=1)\n",
        "\n",
        "\n",
        "    return {\"medians\": lcs_length_medians, \"top_quartiles\": lcs_length_tops, \"bot_quartiles\": lcs_length_bots}"
      ]
    },
    {
      "cell_type": "code",
      "execution_count": 18,
      "id": "081c7b43",
      "metadata": {
        "id": "081c7b43",
        "colab": {
          "base_uri": "https://localhost:8080/"
        },
        "outputId": "5d5d3b8b-82fa-402f-a9d7-6eca1b40a2d1"
      },
      "outputs": [
        {
          "output_type": "stream",
          "name": "stdout",
          "text": [
            "Processing k=1...\n",
            "Processing k=2...\n",
            "Processing k=3...\n",
            "Processing k=4...\n",
            "Processing k=5...\n"
          ]
        },
        {
          "output_type": "execute_result",
          "data": {
            "text/plain": [
              "{'medians': array([  4.,  14.,  47., 156., 296.]),\n",
              " 'top_quartiles': array([  5.  ,  16.  ,  57.  , 215.25, 305.  ]),\n",
              " 'bot_quartiles': array([  4.  ,  12.  ,  36.  , 122.75, 211.  ])}"
            ]
          },
          "metadata": {},
          "execution_count": 18
        }
      ],
      "source": [
        "# For a pretty long text, like shakespeare, this still should not take more than 45 seconds.\n",
        "gen_lcs_statistics(shakespeare)"
      ]
    },
    {
      "cell_type": "markdown",
      "source": [
        "---\n",
        "Having generated this data, let's plot how the LCS length depends on $k$.\n",
        "Write the below function, which should produce an image that looks roughly like the following image:\n",
        "\n",
        "<img src=\"https://drive.google.com/uc?id=1J9VlSFelSAwa2r7-jrPLUGKf5mTanFyn\"></img>\n",
        "\n",
        "Slight deviations in the colors, shapes, labels, and other aesthetics are fine, but the same information should be portrayed -- a clear median line with clear $25^{th}$ and $75^{th}$ quartiles. The title should also state what book is being used, and the axes should be labeled.\n",
        "\n",
        "<!-- the img tag is taken from this gdrive link: https://drive.google.com/file/d/1J9VlSFelSAwa2r7-jrPLUGKf5mTanFyn/view?usp=share_link -->\n"
      ],
      "metadata": {
        "id": "-gpEO-M49X9U"
      },
      "id": "-gpEO-M49X9U"
    },
    {
      "cell_type": "code",
      "execution_count": 19,
      "id": "3e85f6a3",
      "metadata": {
        "id": "3e85f6a3"
      },
      "outputs": [],
      "source": [
        "def plot_lcs_statistics(word_sequence, book_title, lcs_stats):\n",
        "    \"\"\"\n",
        "    Given a book, it's title, and the LCS statistics generated by\n",
        "    `gen_lcs_statistics`, this renders a plot to visualize the statistics.\n",
        "\n",
        "    :param      word_sequence:  The book\n",
        "    :type       word_sequence:  List of string\n",
        "    :param      book_title:     The book's title\n",
        "    :type       book_title:     String\n",
        "    :param      lcs_stats:      The lcs statistics\n",
        "    :type       lcs_stats:      Dict that maps string to numpy array\n",
        "    \"\"\"\n",
        "\n",
        "    ## TODO: WRITE THIS CODE\n",
        "    plt.plot(ks_to_plot, lcs_stats[\"medians\"], label=\"Median\")\n",
        "    plt.fill_between(ks_to_plot, lcs_stats[\"bot_quartiles\"], lcs_stats[\"top_quartiles\"], alpha=0.35)\n",
        "    plt.xlabel('k-gram Size (k)', fontsize=12)\n",
        "    plt.ylabel('LCS Length', fontsize=12)\n",
        "    plt.title(f'LCS Length Statistics for \"{book_title}\"', fontsize=14)\n",
        "    ## Use plot() to render the median as one line\n",
        "    ## Use fill_between() to shade the area 25th and 75th quartiles with a low alpha value, like alpha=0.35\n"
      ]
    },
    {
      "cell_type": "code",
      "execution_count": 20,
      "id": "c2d0cd1a",
      "metadata": {
        "id": "c2d0cd1a",
        "colab": {
          "base_uri": "https://localhost:8080/",
          "height": 557
        },
        "outputId": "e4157a74-3a7c-4f31-e1fa-0d8e3ee2380f"
      },
      "outputs": [
        {
          "output_type": "stream",
          "name": "stdout",
          "text": [
            "Processing k=1...\n",
            "Processing k=2...\n",
            "Processing k=3...\n",
            "Processing k=4...\n",
            "Processing k=5...\n"
          ]
        },
        {
          "output_type": "display_data",
          "data": {
            "text/plain": [
              "<Figure size 640x480 with 1 Axes>"
            ],
            "image/png": "[encoded data removed]"
          },
          "metadata": {}
        }
      ],
      "source": [
        "plot_lcs_statistics(wonderland, \"Alice in Wonderland\", gen_lcs_statistics(wonderland))"
      ]
    },
    {
      "cell_type": "markdown",
      "source": [
        "Okay, wow. That grows really fast. Exponentially even$\\phantom{}^{\\dagger}$. This means that, at least for the relatively small amount of training data we used, we get a poor tradeoff between quality (large $k$) and creativity (small $k$).\n",
        "\n",
        "Maybe we were just unlucky with our choice of book?\n",
        "Write the next function, which plots LCS lengths for many books all at once.\n",
        "It should produce and output roughly like the following:\n",
        "\n",
        "<img src=\"https://drive.google.com/uc?id=1JJrx3K5I_9qdE8ozTEr2lfyD1eLVu4oU\"></img>\n",
        "\n",
        "Again, slight deviations aesthetics are fine, but the same information should be portrayed.\n",
        "\n",
        "<!-- the img tag is taken from this gdrive link: https://drive.google.com/file/d/1JJrx3K5I_9qdE8ozTEr2lfyD1eLVu4oU/view?usp=share_link -->\n",
        "\n",
        "\n",
        "---\n",
        "\n",
        "$\\phantom{}^{[\\dagger]}$_It's literally exponential. If you're curious, add `plt.yscale(\"log\")` to your plotting code to see this curve become close-to-linear, suggesting this literally grows at the rate $LCS \\approx e^{\\Theta(k)}$._"
      ],
      "metadata": {
        "id": "3CsuB3ck-MQs"
      },
      "id": "3CsuB3ck-MQs"
    },
    {
      "cell_type": "code",
      "execution_count": 21,
      "id": "a9279df4",
      "metadata": {
        "id": "a9279df4",
        "colab": {
          "base_uri": "https://localhost:8080/"
        },
        "outputId": "0584e52d-65af-4e34-ffe9-a2c0c58d8338"
      },
      "outputs": [
        {
          "output_type": "stream",
          "name": "stdout",
          "text": [
            "Processing k=1...\n",
            "Processing k=2...\n",
            "Processing k=3...\n",
            "Processing k=4...\n",
            "Processing k=5...\n",
            "Processing k=1...\n",
            "Processing k=2...\n",
            "Processing k=3...\n",
            "Processing k=4...\n",
            "Processing k=5...\n",
            "Processing k=1...\n",
            "Processing k=2...\n",
            "Processing k=3...\n",
            "Processing k=4...\n",
            "Processing k=5...\n",
            "Processing k=1...\n",
            "Processing k=2...\n",
            "Processing k=3...\n",
            "Processing k=4...\n",
            "Processing k=5...\n"
          ]
        }
      ],
      "source": [
        "shakes_stats = gen_lcs_statistics(shakespeare)\n",
        "metamorphosis_stats = gen_lcs_statistics(metamorphosis)\n",
        "wonderland_stats = gen_lcs_statistics(wonderland)\n",
        "monte_cristo_stats = gen_lcs_statistics(montecristo)"
      ]
    },
    {
      "cell_type": "code",
      "execution_count": 22,
      "id": "93f0a267",
      "metadata": {
        "id": "93f0a267"
      },
      "outputs": [],
      "source": [
        "plot_colors = [\"#009292\", \"#FF6DB6\", \"#490092\", \"#006DDB\", \"#B66DFF\", \"#6DB6FF\", \"#B6DBFF\", \"#920000\", \"#924900\", \"#DB6D00\", \"#24FF24\", \"#FFFF6D\"]\n",
        "\n",
        "def plot_many_lcs_statistics(list_of_dicts):\n",
        "    \"\"\"\n",
        "    Given a list of dicts, each with a book title, and the LCS statistics\n",
        "    generated by `gen_lcs_statistics`, this renders a plot to visualize the statistics.\n",
        "\n",
        "    The given dicts have the following shape, with these exact keys:\n",
        "        {\n",
        "            \"book_name\": string,\n",
        "            \"stats\": output of plot_lcs_statistics()\n",
        "        }\n",
        "\n",
        "    :param      list_of_dicts:  A list of dicts\n",
        "    :type       list_of_dicts:  List of dict\n",
        "    \"\"\"\n",
        "    fig, ax = plt.subplots()\n",
        "\n",
        "    ## TODO: WRITE THIS CODE\n",
        "    ## The same basic idea as the last plot, but with many series overlaid. Make alpha=0.15 for the fill to keep the image legible.\n",
        "    ## Use some subset of the list of colors at the top -- they are a visually nice set of colorblind-safe colors.\n",
        "    num_colors = len(plot_colors)\n",
        "    for idx, book_dict in enumerate(list_of_dicts):\n",
        "        book_name = book_dict.get(\"book_name\")\n",
        "        stats = book_dict.get(\"stats\")\n",
        "\n",
        "        medians = stats.get(\"medians\")\n",
        "        top_quartiles = stats.get(\"top_quartiles\")\n",
        "        bot_quartiles = stats.get(\"bot_quartiles\")\n",
        "        color = plot_colors[idx % num_colors]\n",
        "        ax.plot(ks_to_plot, medians, color=color, label=book_name)\n",
        "        ax.fill_between(ks_to_plot, bot_quartiles, top_quartiles, color=color, alpha=0.15)\n",
        "    ax.set_xlabel('k-gram Size (k)', fontsize=14)\n",
        "    ax.set_ylabel('LCS Length', fontsize=14)\n",
        "    ax.set_title('LCS Length Statistics Across Multiple Books', fontsize=16)\n",
        "\n",
        "    ax.legend(title=\"Book Name\", fontsize=12, title_fontsize=12)"
      ]
    },
    {
      "cell_type": "code",
      "source": [
        "plot_many_lcs_statistics(\n",
        "    [\n",
        "        {\n",
        "            \"book_name\": \"All of Shakespeare\",\n",
        "            \"stats\": shakes_stats\n",
        "        }, {\n",
        "            \"book_name\": \"Metamorphosis\",\n",
        "            \"stats\": metamorphosis_stats\n",
        "        }, {\n",
        "            \"book_name\": \"Alice in Wonderland\",\n",
        "            \"stats\": wonderland_stats\n",
        "        }, {\n",
        "            \"book_name\": \"Monte Cristo\",\n",
        "            \"stats\": monte_cristo_stats\n",
        "        }\n",
        "    ]\n",
        ")"
      ],
      "metadata": {
        "id": "CQGQXSwBkWQL",
        "colab": {
          "base_uri": "https://localhost:8080/",
          "height": 474
        },
        "outputId": "7c6b3117-3b71-403b-eea3-6b1b9b49241f"
      },
      "id": "CQGQXSwBkWQL",
      "execution_count": 23,
      "outputs": [
        {
          "output_type": "display_data",
          "data": {
            "text/plain": [
              "<Figure size 640x480 with 1 Axes>"
            ],
            "image/png": "[encoded data removed]"
          },
          "metadata": {}
        }
      ]
    },
    {
      "cell_type": "markdown",
      "source": [
        "---\n",
        "\n",
        "So while some books are a bit better than others, they still all seem to grow at an exponential rate. Improving upon this will with require a better model (we will discuss some later in the course), a lot more training data, or idealy both.\n",
        "\n",
        "---\n",
        "\n",
        "# 4.  (Bonus Question -- 2 / 20 points) Can you improve our model?\n",
        "\n",
        "Code up a modification of our simple $k$-gram model that produces decent text (e.g. better than the 2-gram model) but copies less. To get bonus credit, post a screenshot of your generated text on Ed, using any Project Gutenberg book as the input data. Highlight the text with `LcsFinder` to highlight long common substrings. In your post, add a brief description of how you modified the model.\n",
        "\n",
        "Think creatively! You are also free to look online for different modifications and technique other people have use, but your lab report should (informally) cite whatever sources you used.\n"
      ],
      "metadata": {
        "id": "ylrdQcQWBuOt"
      },
      "id": "ylrdQcQWBuOt"
    },
    {
      "cell_type": "code",
      "source": [
        "# Write any code used for answering the bonus questions here"
      ],
      "metadata": {
        "id": "QwoKRhQyE9gm"
      },
      "id": "QwoKRhQyE9gm",
      "execution_count": null,
      "outputs": []
    }
  ],
  "metadata": {
    "kernelspec": {
      "display_name": "Python 3",
      "language": "python",
      "name": "python3"
    },
    "language_info": {
      "codemirror_mode": {
        "name": "ipython",
        "version": 3
      },
      "file_extension": ".py",
      "mimetype": "text/x-python",
      "name": "python",
      "nbconvert_exporter": "python",
      "pygments_lexer": "ipython3",
      "version": "3.8.8"
    },
    "colab": {
      "provenance": [],
      "include_colab_link": true
    }
  },
  "nbformat": 4,
  "nbformat_minor": 5
}